{
 "cells": [
  {
   "cell_type": "code",
   "execution_count": null,
   "id": "97fd4520-e0a4-4baf-a6c1-10d52d48977b",
   "metadata": {},
   "outputs": [],
   "source": [
    "         PYTHON ASIIGNMENT - 3\n",
    "What are Data structures in python?\n",
    "-Organize and store data efficiently.\n",
    "-Helps to manage and manipulate data. "
   ]
  },
  {
   "cell_type": "markdown",
   "id": "9d1f56de-05f0-4f8d-82f6-484d9c6491f4",
   "metadata": {},
   "source": [
    "Define a list in python and provide an example of how to use it?\n",
    "-List are collections and unordered group.\n",
    "-It can be flexible and mutable.\n",
    "-Represented in squre brackets.\n",
    "Ex:fruits=[\"apple,\" \"banana,\" \"cherry,\"]\n",
    "   print= (fruits)\n",
    "   [\"apple,\" \"banana,\" \"cherry,\"]"
   ]
  },
  {
   "cell_type": "markdown",
   "id": "14067088-935a-4bce-ba4a-b6b41b9e84fe",
   "metadata": {},
   "source": [
    "What is a tuple in python and how is it different from a list? provide an example\n",
    "-Similar to list and immutable.\n",
    "Ex tuple=(\"square,\" \"circle,\" \"rectangle,\" \"triangle,\" \"oval\")\n",
    "   print(tuple)\n",
    "   (\"square,\" \"circle,\" \"rectangle,\" \"triangle,\" \"oval\")"
   ]
  },
  {
   "cell_type": "markdown",
   "id": "c8fb8d69-c5c2-46b0-a26b-f4e32e242998",
   "metadata": {},
   "source": [
    "Explain what a set is in python and provide an example of its usage?\n",
    "-Collection of unique items.\n",
    "-They are mutable\n",
    "Ex:transport{\"motorbike,\" \"aeroplane,\" \"railway\"}\n",
    "   print(transport)\n",
    "   {\"motorbike,\" \"aeroplane,\" \"railway\"}"
   ]
  },
  {
   "cell_type": "markdown",
   "id": "5751ea8a-c09e-4c5f-ae20-7a5f3ad78a4d",
   "metadata": {},
   "source": [
    "Describe a Dictionary in python and give an example of its usuage?\n",
    "-Collections of key value pairs.\n",
    "-Used to associate values the specific keys.\n",
    "Ex:Phone_book={\n",
    "    \"Max\":\"4582-9865-438\"\n",
    "    \"Helen\":\"256-3924-649\"\n",
    "}\n",
    "print(phone_book)\n",
    "{'Max':'4582-9865-438','Helen':'256-3924-649'}"
   ]
  },
  {
   "cell_type": "markdown",
   "id": "c95378d8-c157-4f91-b5d4-ca7c0e1c28c7",
   "metadata": {},
   "source": [
    "Compare a contrast lists and tuples.When would you choose one ever the other\n",
    "-When to Choose One Over the Other\n",
    " Choose a List When:\n",
    "Ex-shopping_list = ['apples', 'bananas']\n",
    "   shopping_list.append('oranges')\n",
    "   print(shopping_list)   \n",
    "   ['apples', 'bananas', 'oranges']\n",
    "\n",
    "Choose a Tuple When:\n",
    "The data should remain constant or is intended to be fixed.\n",
    "Ex-coordinates = (10.0, 20.0)\n",
    "   coordinates[0] = 15.0  # This would raise an error\n",
    "   print(coordinates)        \n",
    "   Output: (10.0, 20.0)"
   ]
  },
  {
   "cell_type": "markdown",
   "id": "566062a4-b612-4edb-bfd6-78a416bcbb03",
   "metadata": {},
   "source": [
    "How does a set differ from a list and a Dictionary? provide examples to illustrate these differences?\n",
    "- Ex my_dict = {'a': 1, 'b': 2, 'c': 3}\n",
    "     my_dict['d'] = 4         # Adding a key-value pair\n",
    "     print(my_dict)\n",
    "     {'a': 1, 'b': 2, 'c': 3, 'd': 4}"
   ]
  }
 ],
 "metadata": {
  "kernelspec": {
   "display_name": "Python 3 (ipykernel)",
   "language": "python",
   "name": "python3"
  },
  "language_info": {
   "codemirror_mode": {
    "name": "ipython",
    "version": 3
   },
   "file_extension": ".py",
   "mimetype": "text/x-python",
   "name": "python",
   "nbconvert_exporter": "python",
   "pygments_lexer": "ipython3",
   "version": "3.12.4"
  }
 },
 "nbformat": 4,
 "nbformat_minor": 5
}
