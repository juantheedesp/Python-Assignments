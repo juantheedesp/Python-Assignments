{
 "cells": [
  {
   "cell_type": "markdown",
   "id": "fb453661-1fd5-434e-9611-613558a991d6",
   "metadata": {},
   "source": [
    "             PYTHON ASSIGNMENT-6\n",
    "what is a class in python? provide with a simple example?\n",
    "-A class in Python is a blueprint for creating objects (instances). \n",
    "-It defines a set of attributes (data) and methods (functions) that the created objects will have. \n",
    "-Classes help organize code and enable the principles of object-oriented programming, such as encapsulation and inheritance.\n",
    "\n",
    "Ex class Dog:\n",
    "    def __init__(self, name, age):\n",
    "        self.name = name  # Instance variable\n",
    "        self.age = age    # Instance variable\n",
    "\n",
    "    def bark(self):\n",
    "        return f\"{self.name} says woof!\"\n",
    "\n",
    "my_dog = Dog(\"Buddy\", 3)\n",
    "\n",
    "print(my_dog.name)  # Output: nikki\n",
    "print(my_dog.age)   # Output: 3\n",
    "print(my_dog.bark())  # Output: nikki says woof!"
   ]
  },
  {
   "cell_type": "code",
   "execution_count": null,
   "id": "5faee50a-f4f6-45cc-a71a-9d2458b184ff",
   "metadata": {},
   "outputs": [],
   "source": [
    "How do you create an object of a class in python?illustrate with an \n",
    "class Dog:\n",
    "    def __init__(self, name, age):\n",
    "        self.name = name\n",
    "        self.age = age\n",
    "\n",
    "    def bark(self):\n",
    "        return f\"{self.name} says woof!\"\n",
    "        \n",
    " Creating an object of the Dog class\n",
    "my_dog = Dog(\"Buddy\", 3)\n",
    "\n",
    "Step 3: Use the Object\n",
    "print(my_dog.name)  # Output: Buddy\n",
    "print(my_dog.age)   # Output: 3\n",
    "\n",
    "Calling a method\n",
    "print(my_dog.bark())  # Output: Buddy says woof!"
   ]
  },
  {
   "cell_type": "code",
   "execution_count": null,
   "id": "5575000f-1712-47d6-a55a-3ab64230254e",
   "metadata": {},
   "outputs": [],
   "source": [
    "What is the __init__ method in a class? explain with an example?\n",
    "class Car:\n",
    "    def __init__(self, make, model, year):\n",
    "        self.make = make      \n",
    "        self.model = model     \n",
    "        self.year = year     \n",
    "\n",
    "    def display_info(self):\n",
    "        return f\"{self.year} {self.make} {self.model}\"\n",
    "\n",
    " Creating an object of the Car class\n",
    "my_car = Car(\"Toyota\", \"Camry\", 2022)\n",
    "\n",
    "# Accessing attributes\n",
    "print(my_car.make)   # Output: Toyota\n",
    "print(my_car.model)  # Output: Camry\n",
    "print(my_car.year)   # Output: 2022\n",
    "\n",
    "# Calling a method\n",
    "print(my_car.display_info())  # Output: 2022 Toyota Camry"
   ]
  },
  {
   "cell_type": "code",
   "execution_count": null,
   "id": "56c12694-032a-4a02-b5e4-de43374b5012",
   "metadata": {},
   "outputs": [],
   "source": [
    "How can you crate a class variable in python? provide an example?\n",
    "class Dog:\n",
    "    # Class variable\n",
    "    species = \"Canis familiaris\"  # This variable is shared by all instances\n",
    "\n",
    "    def __init__(self, name, age):\n",
    "        self.name = name\n",
    "        self.age = age\n",
    "\n",
    "    def display_info(self):\n",
    "        return f\"{self.name} is {self.age} years old and belongs to the species {Dog.species}.\"\n",
    "\n",
    "dog1 = Dog(\"Goffy\", 3)\n",
    "dog2 = Dog(\"Luna\", 5)\n",
    "\n",
    "print(Dog.species)  # Output: Canis familiaris\n",
    "\n",
    "print(dog1.display_info())  # Output: Goffy is 3 years old and belongs to the species Canis familiaris.\n",
    "print(dog2.display_info())  # Output: Luna is 5 years old and belongs to the species Canis familiaris.\n",
    "\n",
    "Dog.species = \"Canis lupus familiaris\"\n",
    "\n",
    "# Checking the updated class variable\n",
    "print(dog1.display_info())  # Output: Goffy is 3 years old and belongs to the species Canis lupus familiaris.\n",
    "print(dog2.display_info())  # Output: Luna is 5 years old and belongs to the species Canis lupus familiaris."
   ]
  },
  {
   "cell_type": "code",
   "execution_count": null,
   "id": "e521ed26-80f1-446e-b0eb-679ef10daa4f",
   "metadata": {},
   "outputs": [],
   "source": [
    "What is the purpose of the 'self' parameter in pyhton?\n",
    "-The self parameter in Python is used to refer to the current instance of a class. \n",
    "-It allows access to instance variables and methods, distinguishing them from local variables. \n",
    "-Essentially, self enables each object to keep track of its own data."
   ]
  },
  {
   "cell_type": "code",
   "execution_count": null,
   "id": "c6f876b7-c530-41ae-9116-ea8682987aab",
   "metadata": {},
   "outputs": [],
   "source": [
    "How do you create a class method in python?provide an example?\n",
    "class Circle:\n",
    "    # Class variable\n",
    "    pi = 3.14\n",
    "\n",
    "    def __init__(self, radius):\n",
    "        self.radius = radius\n",
    "\n",
    "    @classmethod\n",
    "    def from_diameter(cls, diameter):\n",
    "        radius = diameter / 2\n",
    "        return cls(radius)  \n",
    "\n",
    "    def area(self):\n",
    "        return Circle.pi * (self.radius ** 2\n",
    "                            \n",
    "circle1 = Circle.from_diameter(10)\n",
    "\n",
    "print(f\"Radius: {circle1.radius}\")  # Output: Radius: 5.0\n",
    "print(f\"Area: {circle1.area()}\")    # Output: Area: 78.5"
   ]
  },
  {
   "cell_type": "code",
   "execution_count": null,
   "id": "00da46d9-d520-4775-860e-a8be3948fa06",
   "metadata": {},
   "outputs": [],
   "source": []
  },
  {
   "cell_type": "code",
   "execution_count": null,
   "id": "6165317a-1bca-4717-87d4-6c2cb4f14bd9",
   "metadata": {},
   "outputs": [],
   "source": []
  }
 ],
 "metadata": {
  "kernelspec": {
   "display_name": "Python 3 (ipykernel)",
   "language": "python",
   "name": "python3"
  },
  "language_info": {
   "codemirror_mode": {
    "name": "ipython",
    "version": 3
   },
   "file_extension": ".py",
   "mimetype": "text/x-python",
   "name": "python",
   "nbconvert_exporter": "python",
   "pygments_lexer": "ipython3",
   "version": "3.12.4"
  }
 },
 "nbformat": 4,
 "nbformat_minor": 5
}
