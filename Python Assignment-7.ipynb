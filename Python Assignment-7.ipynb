{
 "cells": [
  {
   "cell_type": "markdown",
   "id": "be098272-6417-4b08-b813-e2e962513ea5",
   "metadata": {},
   "source": [
    "           PYTHON ASSIGNMENT -7\n",
    "What is class in python?Provide a simple example?\n",
    "-Blueprint to create an object.\n",
    "-Encapsulate data for objects and method manipulate data.\n",
    "\n",
    "\n",
    "Create an object of the car details\n",
    "Ex:class Car:\n",
    "     def __init__(self, make, model, year):\r\n",
    "        self.make = make\r\n",
    "        self.model = model\r\n",
    "        self.year = year\r\n",
    "\r\n",
    "    # Method to display car details\r\n",
    "    def display_info(self):\r\n",
    "        print(f\"{self.year} {self.make} {self.mo        my_car = Car(\"Toyota\", \"Corolla\", 2020)\n",
    "\n",
    "        my_car.display_info()  # Output: 2020 Toyota Corollala\", 2020)"
   ]
  },
  {
   "cell_type": "markdown",
   "id": "9724d9fb-2438-4bf0-a9d7-fea865c95cc0",
   "metadata": {},
   "source": [
    "How do you create an object of a class in python? illustatre with an example?\n",
    "-Ex: my_car = car(\"Toyota\", \"corolla\", 2020\n",
    "    print (my_car.display_info())"
   ]
  },
  {
   "cell_type": "markdown",
   "id": "886a008c-2a37-4d6a-a06d-e91ee62e9ae4",
   "metadata": {},
   "source": [
    "What is the __init__ method in a class? explain with an example?\n",
    "-Defines attribute in this method.\n",
    "-Constructor method in python.\n",
    "Ex: class person:\n",
    "       def __init__(self, name):\n",
    "           self.name = name\n",
    "\n",
    "       def say_hi(self):\n",
    "           print(f\"Hello, my name is {self.name}\")\n",
    "\n",
    "    print = person(\"Jonathan\")\n",
    "    print = say_hi()\n",
    "\n",
    "    Hello, my name is Jonthan"
   ]
  },
  {
   "cell_type": "markdown",
   "id": "5b4ec69f-2448-491c-a957-cf87f6e4e7da",
   "metadata": {},
   "source": [
    "How can you create a class variable in python? provide an example?\n",
    "Ex : class Dog:\r\n",
    "    # Class variable\r\n",
    "    species = \"Canis familiaris\"\r\n",
    "\r\n",
    "    def __init__(self, name,):ge):\r\n",
    "        self.name = name  # Instance variable\r\n",
    "        self.age = age    # Instance variable\r\n",
    "\r\n",
    "# Creating instances of the Dog class\r\n",
    "dog1 = Dog(\"Buddy\", 5)\r\n",
    "dog2 = Dog(\n",
    "\n",
    "print(dog1.name)  # Output: Buddy\r\n",
    "print(dog2.age)   # Output: 3\r\n",
    "print(dog1.species)  # Output: Canis familiaris\r\n",
    "print(dog2.species)  # Output: Canis familiaris\"Milo\", 3)"
   ]
  },
  {
   "cell_type": "markdown",
   "id": "561f5059-4dda-4a68-9cd6-5c641d6bb357",
   "metadata": {},
   "source": [
    "What is the purpose of self parameters in  class methods?\n",
    "-Ex class Mynumber:\n",
    "        def __init__(self ,name):\n",
    "            self.value = value\n",
    "\n",
    "        def print_value(self):\n",
    "            print(self.value)\n",
    "\n",
    "obj1 = mynumber(17)\n",
    "obj1.print_value()\n",
    "       17"
   ]
  },
  {
   "cell_type": "markdown",
   "id": "1821f16a-d46f-4568-abb4-b9e8c33d1d28",
   "metadata": {},
   "source": [
    "How do you create a class method in python? provide an example?\n",
    "-Ex: class School:\n",
    "         name = \"Oxford School\"\n",
    "\n",
    "         def school_name(class):\n",
    "             return f\"school name is :{class.name}\"\n",
    "\n",
    " print(School. school.name())"
   ]
  },
  {
   "cell_type": "markdown",
   "id": "0afdcc10-6524-4cdb-87cd-5b6efe042006",
   "metadata": {},
   "source": []
  },
  {
   "cell_type": "code",
   "execution_count": null,
   "id": "aa153e13-43cd-4778-93cd-e45b42edfc3f",
   "metadata": {},
   "outputs": [],
   "source": []
  },
  {
   "cell_type": "code",
   "execution_count": null,
   "id": "dccc02c6-a074-473f-9d85-70f8a80bcf42",
   "metadata": {},
   "outputs": [],
   "source": []
  }
 ],
 "metadata": {
  "kernelspec": {
   "display_name": "Python 3 (ipykernel)",
   "language": "python",
   "name": "python3"
  },
  "language_info": {
   "codemirror_mode": {
    "name": "ipython",
    "version": 3
   },
   "file_extension": ".py",
   "mimetype": "text/x-python",
   "name": "python",
   "nbconvert_exporter": "python",
   "pygments_lexer": "ipython3",
   "version": "3.12.4"
  }
 },
 "nbformat": 4,
 "nbformat_minor": 5
}
