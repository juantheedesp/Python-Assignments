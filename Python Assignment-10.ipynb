{
 "cells": [
  {
   "cell_type": "markdown",
   "id": "a136d386-4351-4b38-b5a7-3058cef0352d",
   "metadata": {},
   "source": [
    "         PYTHON ASSIGNMENT-10\n",
    "What is a list comprehension in python?\n",
    "-A list comprehension in Python is a concise way to create lists. \n",
    "-It allows you to generate a new list by applying an expression to each item in an iterable (like a list or range) and optionally filtering items based on a condition"
   ]
  },
  {
   "cell_type": "markdown",
   "id": "f013ca52-10f2-4c25-aab4-48f9eada2dcb",
   "metadata": {},
   "source": [
    "How can you create a list of squares of numbers from 0 to 9 using a list comprehension?\n",
    "-Ex  squares = [x**2 for x in range(10)]\n",
    "    [0, 1, 4, 9, 16, 25, 36, 49, 64, 81]"
   ]
  },
  {
   "cell_type": "markdown",
   "id": "f7b8d2c7-9b97-4084-ad2c-ce070e21ae5b",
   "metadata": {},
   "source": [
    "What is a lambda function in python\n",
    "-A lambda function in Python is a small anonymous function defined using the lambda keyword. --Unlike regular functions defined with def, lambda functions can have any number of input parameters but only a single expression. "
   ]
  },
  {
   "cell_type": "markdown",
   "id": "e1510317-3466-498d-bed0-22fea31787eb",
   "metadata": {},
   "source": [
    "How can you use a lambda function to add two numbers?\n",
    "-Ex add = lambda x, y: x + y\n",
    "\n",
    " Using the lambda function\n",
    "result = add(3, 5)\n",
    "print(result)  Output: 8"
   ]
  },
  {
   "cell_type": "markdown",
   "id": "ed5f1d5a-9953-421c-ae7c-bba49797446c",
   "metadata": {},
   "source": [
    "Write a list comprehension to extract the first letter of each word from the below list words =['apple','banana','cherry']\n",
    "-Ex words = ['apple', 'banana', 'cherry']\n",
    "    first_letters = [word[0] for word in words]\n",
    "    ['a', 'b', 'c']"
   ]
  },
  {
   "cell_type": "markdown",
   "id": "0c02778c-1ed6-4c59-8880-adea47149eb9",
   "metadata": {},
   "source": [
    "How do you create a list of even numbers from 0 to 20 using a list comprehension?\n",
    "-Ex even_numbers = [x for x in range(21) if x % 2 == 0]\n",
    "                   [0, 2, 4, 6, 8, 10, 12, 14, 16, 18, 20]"
   ]
  },
  {
   "cell_type": "markdown",
   "id": "58251a5a-f020-4975-bf09-fb435e5ac023",
   "metadata": {},
   "source": [
    "What will be the output of the list comprehension with a lambda function?\n",
    "-Ex  squares = [(lambda x: x**2)(x) for x in range(10)]\n",
    "               [0, 1, 4, 9, 16, 25, 36, 49, 64, 81] "
   ]
  },
  {
   "cell_type": "markdown",
   "id": "05543f48-f541-4d40-aff2-6387113d353e",
   "metadata": {},
   "source": [
    "Write a list comprehension to generate a list of the lengths of words in given list?\n",
    "-Ex words = ['apple', 'banana', 'cherry']\n",
    "    lengths = [len(word) for word in words]\n",
    "              [5, 6, 6]"
   ]
  },
  {
   "cell_type": "markdown",
   "id": "a88ed970-7974-462f-92fd-f8b0a8f5b906",
   "metadata": {},
   "source": [
    "How can you use lambda function to filter out odd numbers from the list?\n",
    "-Ex numbers = [1, 2, 3, 4, 5, 6]\n",
    "    even_numbers = list(filter(lambda x: x % 2 == 0, numbers))\n",
    "              [2, 4, 6]"
   ]
  },
  {
   "cell_type": "markdown",
   "id": "a9bfd371-b1b9-4ceb-a708-4ac954a84fc8",
   "metadata": {},
   "source": [
    "What is the result of the list comprehension '[(x,x**2)]' for x in range(3\n",
    "-Ex   [(0, 0), (1, 1), (2, 4)]\n",
    "      [(0, 0), (1, 1), (2, 4)]"
   ]
  },
  {
   "cell_type": "markdown",
   "id": "d2ab3de1-3d23-4d8c-b085-42bb16aa78d4",
   "metadata": {},
   "source": [
    "Write a list comprehension to create the first five squares of even numbers?\n",
    "-Ex even_squares = [x**2 for x in range(0, 10, 2)]\n",
    "                   [0, 4, 16, 36, 64]"
   ]
  },
  {
   "cell_type": "markdown",
   "id": "b865c47e-1365-4f5e-910b-37a65a36d9ed",
   "metadata": {},
   "source": [
    "Write a list comprehension to create a list of uppercase of the words in a list words=['apple','banana','cherry']\n",
    "-Ex words = ['apple', 'banana', 'cherry']\n",
    "    uppercase_words = [word.upper() for word in words]\n",
    "        ['APPLE', 'BANANA', 'CHERRY']"
   ]
  },
  {
   "cell_type": "markdown",
   "id": "2bb62f7d-8562-4e99-a97a-ccf5507c8664",
   "metadata": {},
   "source": [
    "What wil the following list comprehension produce?'[x for x in range(5) if x ==2]\n",
    "       [2]"
   ]
  },
  {
   "cell_type": "markdown",
   "id": "081a76e0-47e7-4031-ac61-c083924ef689",
   "metadata": {},
   "source": [
    "Explain how a lambda function  can be assigned to a variable?\n",
    "-Ex square = lambda x: x ** 2\n",
    "    result = square(5)  Output: 25"
   ]
  },
  {
   "cell_type": "code",
   "execution_count": null,
   "id": "d47b3808-b602-4305-bf3d-fc37ee40c3de",
   "metadata": {},
   "outputs": [],
   "source": [
    "How do you use a list comprehension to flatten a list of list?\n",
    " convert the list_of_lists=[[1,2], [3,4], [5]]\n",
    " To be expected output [1,2,3,4,5]\n",
    "-Ex list_of_lists = [[1, 2], [3, 4], [5]]\n",
    "    flattened = [item for sublist in list_of_lists for item in sublist]\n",
    "                [1, 2, 3, 4, 5]"
   ]
  }
 ],
 "metadata": {
  "kernelspec": {
   "display_name": "Python 3 (ipykernel)",
   "language": "python",
   "name": "python3"
  },
  "language_info": {
   "codemirror_mode": {
    "name": "ipython",
    "version": 3
   },
   "file_extension": ".py",
   "mimetype": "text/x-python",
   "name": "python",
   "nbconvert_exporter": "python",
   "pygments_lexer": "ipython3",
   "version": "3.12.4"
  }
 },
 "nbformat": 4,
 "nbformat_minor": 5
}
