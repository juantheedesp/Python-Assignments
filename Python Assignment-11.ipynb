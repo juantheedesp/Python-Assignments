{
 "cells": [
  {
   "cell_type": "markdown",
   "id": "f79f2713-5792-48a2-b755-b5752bd984b8",
   "metadata": {},
   "source": [
    "                PYTHON AAIGNMENT-11\n",
    "How does the filter function do in the python? provide an example filter even numbers from the list ?\n",
    "Ex   Define a function that checks if a number is even\n",
    "       def is_even(num):\n",
    "       return num % 2 == 0\n",
    "\n",
    "     Create a list of numbers\n",
    "       numbers = [1, 2, 3, 4, 5, 6, 7, 8, 9, 10]\n",
    "\n",
    "    Use filter to get even numbers\n",
    "       even_numbers = filter(is_even, numbers)\n",
    "\n",
    "    Convert the filter object to a list\n",
    "       even_numbers_list = list(even_numbers)\n",
    "\n",
    " Print the result\n",
    "print(even_numbers_list)   Output: [2, 4, 6, 8, 10]"
   ]
  },
  {
   "cell_type": "markdown",
   "id": "b4aa1c88-23f5-40f8-996a-c81932bef04e",
   "metadata": {},
   "source": [
    "How can you 'map' to square all the numbers in a list? Show an example?  \n",
    "Ex  Define a function that squares a number\n",
    "      def square(num):\n",
    "      return num ** 2\n",
    "\n",
    " Create a list of numbers\n",
    "numbers = [1, 2, 3, 4, 5]\n",
    "\n",
    "    Use map to apply the square function to each number\n",
    "       squared_numbers = map(square, numbers)\n",
    "\n",
    "    Convert the map object to a list\n",
    "      squared_numbers_list = list(squared_numbers)\n",
    "\n",
    "    Print the result\n",
    "      print(squared_numbers_list)   Output: [1, 4, 9, 16, 25]"
   ]
  },
  {
   "cell_type": "markdown",
   "id": "08d720ed-13c8-4ba2-ad10-d14fa0ce83ba",
   "metadata": {},
   "source": [
    "What is the purpose of 'reduce',and how  is it different from 'map'and 'filter'? provide an example?\n",
    "Ex    from functools import reduce \n",
    "\n",
    " Define a function that multiplies two numbers\n",
    " def multiply(x, y):\n",
    " return x * y\n",
    "\n",
    "Create a list of numbers\n",
    "numbers = [1, 2, 3, 4, 5]\n",
    "\n",
    "Use reduce to compute the product of all numbers\n",
    " product = reduce(multiply, numbers)\n",
    "\n",
    "Print the result\n",
    "print(product)  Output: 120"
   ]
  },
  {
   "cell_type": "markdown",
   "id": "01f7d215-7475-40ae-81fe-a306dd11c95e",
   "metadata": {},
   "source": [
    "How do you use 'filter' to get all the names that start with the letter 'A' from a list? \n",
    " List of names\n",
    "names = [\"Alice\", \"Bob\", \"Anna\", \"Charlie\", \"Amanda\", \"David\"]\n",
    "\n",
    " Define a function that checks if a name starts with 'A'\n",
    "def starts_with_A(name):\n",
    "    return name.startswith('A')\n",
    "\n",
    " Use filter to get all names that start with 'A'\n",
    "names_with_A = filter(starts_with_A, names)\n",
    "\n",
    " Convert the filter object to a list and print\n",
    "print(list(names_with_A))  # Output: ['Alice', 'Anna', 'Amanda']"
   ]
  },
  {
   "cell_type": "markdown",
   "id": "ba9d35f1-fd7c-4aaf-9c77-b06fa1944d1c",
   "metadata": {},
   "source": [
    "Demonstate how to combine 'map' and 'filter' in a single operation to first filter out odd numbers and then square the even numbers? \n",
    " List of numbers\n",
    "numbers = [1, 2, 3, 4, 5, 6, 7, 8, 9, 10]\n",
    "\n",
    " First, filter out the odd numbers (keep only even numbers)\n",
    " Then, square each even number\n",
    "squared_evens = map(lambda x: x**2, filter(lambda x: x % 2 == 0, numbers))\n",
    "\n",
    " Convert the result to a list and print\n",
    "print(list(squared_evens))  # Output: [4, 16, 36, 64, 100]"
   ]
  },
  {
   "cell_type": "markdown",
   "id": "d369beb6-ddcd-402c-803b-0059870b51e6",
   "metadata": {},
   "source": [
    "Write a function that uses 'reduce' to find the maximum number in the list ?\n",
    "from functools import reduce\n",
    "\n",
    "Define a function to find the maximum of two numbers\n",
    "def max_number(x, y):\n",
    "    return x if x > y else y\n",
    "\n",
    " List of numbers\n",
    "numbers = [3, 5, 1, 7, 2, 8, 4]\n",
    "\n",
    " Use reduce to find the maximum number\n",
    "max_value = reduce(max_number, numbers)\n",
    "\n",
    "print(max_value)  # Output: 8"
   ]
  },
  {
   "cell_type": "markdown",
   "id": "4cb22738-7680-4b80-be3d-455405ff367f",
   "metadata": {},
   "source": [
    "Create a list of lengths of each word in a given list using 'map'? \n",
    "List of words\n",
    "words = [\"apple\", \"banana\", \"cherry\", \"date\"]\n",
    "\n",
    "Use map with a lambda function to get the length of each word\n",
    "word_lengths = map(lambda word: len(word), words)\n",
    "\n",
    " Convert the result to a list and print\n",
    "print(list(word_lengths))  # Output: [5, 6, 6, 4]"
   ]
  },
  {
   "cell_type": "markdown",
   "id": "7a2998bf-4b92-4eb0-9751-9970fa541626",
   "metadata": {},
   "source": [
    "How can you use 'filter' to remove all negative numbers from a list?\n",
    "List of numbers\n",
    "numbers = [3, -1, 4, -2, 5, -7, 8]\n",
    "\n",
    " Use filter to remove negative numbers\n",
    "non_negative_numbers = filter(lambda x: x >= 0, numbers)\n",
    "\n",
    "Convert the result to a list and print\n",
    "print(list(non_negative_numbers))  # Output: [3, 4, 5, 8]"
   ]
  },
  {
   "cell_type": "markdown",
   "id": "23caab2a-5043-466b-abb3-9c16c09aa91f",
   "metadata": {},
   "source": [
    "Explain the significance of using  'functools.reduce' instead of a simple simple loop to compute?\n",
    "from functools import reduce\n",
    "\n",
    "numbers = [1, 2, 3, 4]\n",
    "result = reduce(lambda x, y: x + y, numbers)\n",
    "print(result)  # Output: 10\n",
    "\n",
    "numbers = [1, 2, 3, 4]\n",
    "result = 0\n",
    "for num in numbers:\n",
    "    result += num\n",
    "print(result)  # Output: 10"
   ]
  },
  {
   "cell_type": "markdown",
   "id": "707612d9-c4b5-4757-8169-08b589352b61",
   "metadata": {},
   "source": []
  },
  {
   "cell_type": "markdown",
   "id": "60873758-da30-4878-bda6-0ab2ad8da00e",
   "metadata": {},
   "source": []
  },
  {
   "cell_type": "markdown",
   "id": "4af12de9-782b-4605-bc05-d940814dec3b",
   "metadata": {},
   "source": []
  }
 ],
 "metadata": {
  "kernelspec": {
   "display_name": "Python 3 (ipykernel)",
   "language": "python",
   "name": "python3"
  },
  "language_info": {
   "codemirror_mode": {
    "name": "ipython",
    "version": 3
   },
   "file_extension": ".py",
   "mimetype": "text/x-python",
   "name": "python",
   "nbconvert_exporter": "python",
   "pygments_lexer": "ipython3",
   "version": "3.12.4"
  }
 },
 "nbformat": 4,
 "nbformat_minor": 5
}
