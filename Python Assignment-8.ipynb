{
 "cells": [
  {
   "cell_type": "markdown",
   "id": "3ec0bb53-de40-4b14-a332-bf3f5ffea98c",
   "metadata": {},
   "source": [
    "        PYTHON ASSIGNMENT -8\n",
    "           ENCAPSULATION\n",
    "What is an encapsulation in python?\n",
    "-Encapsulation in Python is a fundamental principle of object-oriented programming that restricts direct access to certain components of an object. \n",
    "-It allows you to bundle data (attributes) and methods (functions) that operate on that data within a single unit, typically a class. \n",
    "-This helps protect the integrity of the data and promotes modularity."
   ]
  },
  {
   "cell_type": "markdown",
   "id": "8e881489-ded1-4573-b2f3-edbf0c134578",
   "metadata": {},
   "source": [
    "How do you achiveve encapsulation in python?\n",
    "-Public Members: Accessible from outside the class (default).\n",
    "-Protected Members: Prefixed with a single underscore (_), indicating they should be treated as internal.\n",
    "-Private Members: Prefixed with double underscores (__), making them harder to access from outside the class."
   ]
  },
  {
   "cell_type": "markdown",
   "id": "9d2d6bba-0f54-43ff-98ef-2685bd851a6c",
   "metadata": {},
   "source": [
    "What is private attribute in python?\n",
    "-A private attribute is an attribute of a class that is intended to be inaccessible from outside the class. \n",
    "-It is denoted by prefixing the attribute name with double underscores (__). \n",
    "-This triggers name mangling, which changes the attribute name to include the class name, making it harder to access directly."
   ]
  },
  {
   "cell_type": "markdown",
   "id": "d4b473da-a2a5-48a3-b8e2-07643485c99c",
   "metadata": {},
   "source": [
    "Can private attribute be accessed outside the python?\n",
    "-Ex class BankAccount:\n",
    "    def __init__(self, owner, balance=0):\n",
    "        self.owner = owner          # Public attribute\n",
    "        self.__balance = balance    # Private attribute\n",
    "\n",
    "    def get_balance(self):\n",
    "        return self.__balance  # Accessing the private attribute\n",
    "\n",
    "account = BankAccount(\"Alice\", 100)\n",
    "\n",
    "# Attempting to access the private attribute directly will raise an error\n",
    "# print(account.__balance)  # AttributeError\n",
    "\n",
    "# Accessing the private attribute using name mangling\n",
    "print(account._BankAccount__balance)  # Output: 100"
   ]
  },
  {
   "cell_type": "markdown",
   "id": "541588a7-8348-4086-80a4-0b457fd08be7",
   "metadata": {},
   "source": [
    "What is setter and getter?\n",
    "-A setter is a method that sets (or modifies) the value of an attribute. It usually starts with \"set\" followed by the attribute name.\n",
    "-A getter is a method that retrieves (or gets) the value of an attribute. It typically has a name that starts with \"get\" followed by the attribute name"
   ]
  },
  {
   "cell_type": "markdown",
   "id": "f17fa171-04fe-45be-8757-309885ed9df4",
   "metadata": {},
   "source": [
    "           ABSTRACTION\n",
    "What is abstraction in python?\n",
    "-Abstraction in Python is a fundamental concept in object-oriented programming that focuses on exposing only the essential features of an object.\n",
    "-while hiding the complex implementation details. \n",
    "-This allows users to interact with the object without needing to understand all the underlying complexities."
   ]
  },
  {
   "cell_type": "markdown",
   "id": "65fec8fe-f8d4-4567-8920-2171888afba9",
   "metadata": {},
   "source": [
    "How do you implement abstraction in python?\n",
    "\n",
    "Ex from abc import ABC, abstractmethod\n",
    "\n",
    "class Animal(ABC):\n",
    "    @abstractmethod\n",
    "    def speak(self):\n",
    "        pass  # Abstract method; must be implemented by subclasses\n",
    "\n",
    "class Dog(Animal):\n",
    "    def speak(self):\n",
    "        return \"Woof!\"\n",
    "\n",
    "class Cat(Animal):\n",
    "    def speak(self):\n",
    "        return \"Meow!\"\n",
    "        \n",
    "def animal_sound(animal):\n",
    "    print(animal.speak())\n",
    "\n",
    "dog = Dog()\n",
    "cat = Cat()"
   ]
  },
  {
   "cell_type": "markdown",
   "id": "b20ad4a4-c9e6-495b-a966-b2c343be1c9b",
   "metadata": {},
   "source": [
    "What is an abstract class?\n",
    "-An abstract class in Python is a class that cannot be instantiated and is intended to be subclassed.\n",
    "-It serves as a blueprint for other classes, defining a common interface while allowing subclasses to provide specific implementations for abstract    methods. \n",
    "-Abstract classes are useful for establishing a contract for subclasses, ensuring that they implement certain methods."
   ]
  },
  {
   "cell_type": "markdown",
   "id": "80425080-7566-4ded-98b4-eb13dfd93ded",
   "metadata": {},
   "source": [
    "Can a class have both abstract and concrete method?\n",
    "-Yes, a class in Python can have both abstract and concrete methods. \n",
    "-An abstract class can define abstract methods (which must be implemented by subclasses).\n",
    "-concrete methods (which provide a specific implementation)."
   ]
  },
  {
   "cell_type": "markdown",
   "id": "5f923761-38aa-4a5b-98de-168ccbd0df80",
   "metadata": {},
   "source": [
    "What is an interface in python?\n",
    "-In Python, an interface is a concept that defines a set of methods that a class must implement, without providing the implementation details."
   ]
  },
  {
   "cell_type": "markdown",
   "id": "bfb111dc-5151-4124-bc97-efbb20e64371",
   "metadata": {},
   "source": [
    "            POLYMORPHISM\n",
    "What is polymorphism in python?\n",
    "-Polymorphism in Python is a fundamental concept in object-oriented programming that allows objects of different classes to be treated as objects of a common superclass. \n",
    "-It enables a single interface to be used for different underlying forms (data types), allowing functions to work on objects of various classes seamlessly."
   ]
  },
  {
   "cell_type": "markdown",
   "id": "bb733d9d-703f-4d6f-abe5-9e0d5f017c1a",
   "metadata": {},
   "source": [
    "How does method overridding demonstrate polymorphism?\n",
    "-Method overriding demonstrates polymorphism by allowing subclasses to provide specific implementations of methods that are already defined in a parent class (or superclass). \n",
    "-This enables a single interface to call the same method name on different objects, with each object responding according to its own class definition. "
   ]
  },
  {
   "cell_type": "markdown",
   "id": "909b29a1-9d35-449e-afe3-a2901e121eb9",
   "metadata": {},
   "source": [
    "Can you give an example of operator overloading?\n",
    "Ex class Vector:\n",
    "    def __init__(self, x, y):\n",
    "        self.x = x\n",
    "        self.y = y\n",
    "\n",
    "    def __add__(self, other):\n",
    "        # Overloading the + operator\n",
    "        if isinstance(other, Vector):\n",
    "            return Vector(self.x + other.x, self.y + other.y)\n",
    "        return NotImplemented\n",
    "\n",
    "    def __repr__(self):\n",
    "        # Providing a string representation for easy debugging\n",
    "        return f\"Vector({self.x}, {self.y})\"\n",
    "\n",
    "# Using the Vector class\n",
    "v1 = Vector(2, 3)\n",
    "v2 = Vector(4, 5)\n",
    "\n",
    "# Adding two vectors using the overloaded + operator\n",
    "v3 = v1 + v2\n",
    "\n",
    "print(v3)  # Output: Vector(6, 8)\n"
   ]
  },
  {
   "cell_type": "markdown",
   "id": "97d7d85e-fe25-40b1-b7af-3e2f8fe78239",
   "metadata": {},
   "source": [
    "What is duck typing in python?\n",
    "-Duck typing is a concept in Python (and other dynamically typed languages) that determines an object's suitability for a particular use based on its methods and properties rather than its actual type. \n",
    "-The term comes from the saying, \"If it looks like a duck and quacks like a duck, it's probably a duck."
   ]
  },
  {
   "cell_type": "markdown",
   "id": "796a88ec-d9c5-4ad1-953c-11f1aa37e388",
   "metadata": {},
   "source": [
    "What is the difference between complie-time and run-time polymorphism?\n",
    "-Compile-time polymorphism, also known as static polymorphism, is resolved during the compilation of the program. \n",
    "-The method to be executed is determined at compile time.\n",
    "-Run-time polymorphism, also known as dynamic polymorphism, is resolved during the execution of the program. \n",
    "-The method to be executed is determined at runtime based on the object's actual class."
   ]
  },
  {
   "cell_type": "markdown",
   "id": "1fceea69-f271-4ef0-9421-6039c30a4247",
   "metadata": {},
   "source": [
    "            INHERITANCE\n",
    "What is inheritance in python?\n",
    "-Inheritance in Python is a fundamental concept in object-oriented programming that allows one class (the child or derived class) to inherit the attributes and methods of another class (the parent or base class). \n",
    "-This promotes code reusability and establishes a hierarchical relationship between classes."
   ]
  },
  {
   "cell_type": "markdown",
   "id": "2b3299ab-7fa7-4d59-9c89-344bae0b62a8",
   "metadata": {},
   "source": [
    "What is a base class?\n",
    "-A base class (also known as a parent class or superclass) is a class in object-oriented programming from which other classes (known as derived or child classes) inherit properties and methods. \n",
    "-The base class provides a foundation upon which the derived classes can build, enabling code reuse and the establishment of a hierarchical relationship among classes."
   ]
  },
  {
   "cell_type": "markdown",
   "id": "61c1741c-2101-4b07-9bf0-524e0b921b99",
   "metadata": {},
   "source": [
    "what is a derived class?\n",
    "-A derived class (also known as a child class or subclass) is a class that inherits from another class, called the base class (or parent class). \n",
    "-The derived class can extend or modify the functionality of the base class by adding new attributes and methods or by overriding existing methods."
   ]
  },
  {
   "cell_type": "markdown",
   "id": "0d36b4d2-7869-475a-aebf-106af4b7efa0",
   "metadata": {},
   "source": [
    "What is multiple inheritance?\n",
    "-Multiple inheritance is a feature in object-oriented programming where a class can inherit attributes and methods from more than one base class. \n",
    "-This allows a derived class to combine the functionality of multiple parent classes, providing a way to create more complex and versatile classes."
   ]
  },
  {
   "cell_type": "markdown",
   "id": "2496bd0c-6612-45c4-b2bb-82f0554b5632",
   "metadata": {},
   "source": [
    "What is the 'super()' function used for?\n",
    "-The super() function in Python is used to call methods from a parent or base class in a derived or child class. \n",
    "-It provides a way to access inherited methods and properties, making it easier to maintain and extend class hierarchies."
   ]
  },
  {
   "cell_type": "markdown",
   "id": "507492c8-b207-4471-8130-68b57be89bbd",
   "metadata": {},
   "source": [
    "What is Dundur method in python OOP?\n",
    "-In Python, \"dunder\" methods (short for \"double underscore\" methods) are special methods that begin and end with double underscores (__). They are also known as magic methods or special methods. These methods allow you to define the behavior of your objects in certain situations, enabling operator overloading, object representation, and more."
   ]
  },
  {
   "cell_type": "markdown",
   "id": "bb6dc4eb-619d-424c-9e29-809b5ce4509f",
   "metadata": {},
   "source": [
    "          GENERAL OOP QUESTIONS\n",
    "What are the four main principles of oop?\n",
    "-Encapsulation\n",
    "-Abstraction\n",
    "-Inheritance\n",
    "-polymorphism"
   ]
  },
  {
   "cell_type": "markdown",
   "id": "dc21e6a0-49f9-413d-b97a-ecaeb4d3a4d6",
   "metadata": {},
   "source": [
    "What is the differnce between a class and an object?\n",
    "         CLASS                                                OBJECT\n",
    "-Blueprint or template for creating objects                -Instance of a class\n",
    "-Defines attributes and methods                            -Holds specific data and behavior\n",
    "-Defined once                                              -Created as needed from a class\n",
    "-Class Car:                                                -my_car = Car(\"Toyota\", \"Corolla\")\n"
   ]
  },
  {
   "cell_type": "markdown",
   "id": "3d0f4396-cf00-413b-beb5-f9f1c92dfbdc",
   "metadata": {},
   "source": [
    "What is a class constructor in python?\n",
    "-In Python, a class constructor is a special method used to initialize new objects of a class. \n",
    "-The constructor method is defined using the __init__ method, which is automatically called when a new instance of the class is created.\n",
    "-This allows you to set initial values for the object's attributes."
   ]
  },
  {
   "cell_type": "markdown",
   "id": "9ff29f20-a7c5-44e1-a7a5-f056dae65e3b",
   "metadata": {},
   "source": [
    "Can you override the constructor in  a derived class?\n",
    "-Ex class Animal:\n",
    "    def __init__(self, name):\n",
    "        self.name = name\n",
    "\n",
    "    def speak(self):\n",
    "        return \"Some sound\"\n",
    "\n",
    "class Dog(Animal):\n",
    "    def __init__(self, name, breed):\n",
    "        super().__init__(name)  # Call the base class constructor\n",
    "        self.breed = breed      # Initialize the new attribute\n",
    "\n",
    "    def speak(self):\n",
    "        return \"Woof!\"\n",
    "\n",
    "# Using the classes\n",
    "dog = Dog(\"Buddy\", \"Golden Retriever\")\n",
    "\n",
    "print(dog.name)   # Output: Buddy\n",
    "print(dog.breed)  # Output: Golden Retriever\n",
    "print(dog.speak())  # Output: Woof!"
   ]
  },
  {
   "cell_type": "markdown",
   "id": "c8dd593e-6da2-41b3-9a85-990d9072b4cc",
   "metadata": {},
   "source": [
    "What is the difference between instance variables and class variable?\n",
    "   INSTANCE VARIABLE                               CLASS VARIABLE\n",
    "-Specific to an instance                        -Shared among all instances\n",
    "-Unique to each instance                        -Same for all instances\n",
    "-Exists as long as the instance exists\t       -Exists as long as the class exists\n",
    "-Accessed using self                           -Accessed using the class name or instance\n"
   ]
  },
  {
   "cell_type": "markdown",
   "id": "ae5bd832-83c4-4db9-ac89-d197618d9872",
   "metadata": {},
   "source": [
    "How do you define a class method in python?\n",
    "-In Python, a class method is defined using the @classmethod decorator. \n",
    "-Class methods are bound to the class rather than to the instance of the class, meaning they can be called on the class itself, not just on instances.\n",
    "-They take a reference to the class (usually named cls) as the first parameter, allowing them to access class variables and other class methods."
   ]
  },
  {
   "cell_type": "markdown",
   "id": "6e535db2-afa1-4730-a1f8-759f130686f6",
   "metadata": {},
   "source": [
    "What is static method?\n",
    "-A static method in Python is a method that belongs to a class rather than an instance of the class. \n",
    "-It is defined using the @staticmethod decorator. \n",
    "-Static methods do not take any special first parameter (like self or cls) and cannot access or modify the class state or instance state. \n",
    "-They behave like regular functions but belong to the class's namespace."
   ]
  },
  {
   "cell_type": "markdown",
   "id": "a2a7b93f-eb95-4357-996b-7bb8efcc0848",
   "metadata": {},
   "source": [
    "What is overriding?\n",
    "-Overriding is a concept in object-oriented programming (OOP) that allows a derived class (or subclass) to provide a specific implementation of a method that is already defined in its base class (or superclass). \n",
    "-When a method in a derived class has the same name and parameters as a method in the base class, the derived class's method is said to \"override\" the base class's method."
   ]
  },
  {
   "cell_type": "markdown",
   "id": "271d0a9e-e040-44c6-a858-c385a70b6916",
   "metadata": {},
   "source": [
    "Can you have an abstract method without abstract class?\n",
    "-Ex from abc import ABC, abstractmethod\n",
    "\n",
    "class Animal(ABC):  # Abstract class\n",
    "    @abstractmethod\n",
    "    def speak(self):  # Abstract method\n",
    "        pass\n",
    "\n",
    "class Dog(Animal):\n",
    "    def speak(self):\n",
    "        return \"Woof!\"\n",
    "\n",
    "class Cat(Animal):\n",
    "    def speak(self):\n",
    "        return \"Meow!\"\n",
    "\n",
    " Usage\n",
    "dog = Dog()\n",
    "cat = Cat()\n",
    "\n",
    "print(dog.speak())  # Output: Woof!\n",
    "print(cat.speak())  # Output: Meow!\n",
    "\n",
    " Uncommenting the following line will raise an error because you cannot instantiate an abstract class\n",
    " animal = Animal()"
   ]
  },
  {
   "cell_type": "markdown",
   "id": "78639143-b767-4401-9714-4aad7c1d375c",
   "metadata": {},
   "source": [
    "How do you implement a private method in a class?\n",
    " Ex class MyClass:\n",
    "    def __init__(self, value):\n",
    "        self.value = value\n",
    "\n",
    "    def public_method(self):\n",
    "        return self.__private_method()\n",
    "\n",
    "    def __private_method(self):  # Private method\n",
    "        return f\"Private value is {self.value}\"\n",
    "\n",
    " Usage\n",
    "obj = MyClass(42)\n",
    "\n",
    " Accessing the public method\n",
    "print(obj.public_method())  # Output: Private value is 42\n",
    "\n",
    " Attempting to access the private method directly will raise an AttributeError\n",
    " print(obj.__private_method())  # Uncommenting this will cause an error\n",
    "\n",
    " Accessing the private method using name mangling\n",
    "print(obj._MyClass__private_method())  # Output: Private value is 42"
   ]
  },
  {
   "cell_type": "markdown",
   "id": "02a3e61b-536b-49c4-b52c-30fe635c8a73",
   "metadata": {},
   "source": [
    "What is a property in python?\n",
    "-In Python, a property is a special type of attribute that allows you to manage the access to an attribute of a class through getter, setter, and deleter methods. \n",
    "-Properties provide a way to define methods that can be accessed like attributes, enabling controlled access to instance variables. \n",
    "-This is useful for implementing encapsulation and data validation."
   ]
  },
  {
   "cell_type": "markdown",
   "id": "972c7601-3b4a-4388-8dc3-fae6075cefb5",
   "metadata": {},
   "source": [
    "How can you prevent a class from being inherited?\n",
    "-Ex class NoSubClassMeta(type):\n",
    "    def __new__(cls, name, bases, attrs):\n",
    "        if any(isinstance(base, NoSubClassMeta) for base in bases):\n",
    "            raise TypeError(f\"Class '{name}' cannot be subclassed.\")\n",
    "        return super().__new__(cls, name, bases, attrs)\n",
    "\n",
    "class BaseClass(metaclass=NoSubClassMeta):\n",
    "    def method(self):\n",
    "        return \"This is a method in BaseClass\"\n",
    "\n",
    "Attempting to inherit from BaseClass will raise an error\n",
    "class DerivedClass(BaseClass):  # Uncommenting this line will raise a TypeError\n",
    "pass"
   ]
  },
  {
   "cell_type": "markdown",
   "id": "5019db7c-1e43-4085-b5ff-402f57bc4ac3",
   "metadata": {},
   "source": [
    "How does python support dynamic typing in oop?\n",
    "-Type Flexibility: You can assign different types of values to the same variable at runtime.\n",
    "Ex x = 10        x is an integer\n",
    "   x = \"Hello\"   x is now a string\n",
    "\n",
    "-Duck Typing: An object's type is determined by its behavior (methods) rather than its explicit type, so as long as an object has the required methods, it can be used interchangeably.\n",
    "Ex class Duck:\n",
    "    def quack(self):\n",
    "        return \"Quack!\"\n",
    "        \n",
    "-Polymorphism: Different classes can define the same method, allowing for flexible function calls based on the object's type.\n",
    "Ex def animal_sound(animal):\n",
    "    print(animal.speak())   Calls the speak method of the passed object\n",
    "   "
   ]
  }
 ],
 "metadata": {
  "kernelspec": {
   "display_name": "Python 3 (ipykernel)",
   "language": "python",
   "name": "python3"
  },
  "language_info": {
   "codemirror_mode": {
    "name": "ipython",
    "version": 3
   },
   "file_extension": ".py",
   "mimetype": "text/x-python",
   "name": "python",
   "nbconvert_exporter": "python",
   "pygments_lexer": "ipython3",
   "version": "3.12.4"
  }
 },
 "nbformat": 4,
 "nbformat_minor": 5
}
