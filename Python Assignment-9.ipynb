{
 "cells": [
  {
   "cell_type": "markdown",
   "id": "83483d66-5e47-4e2e-b75f-c8374b7a60e5",
   "metadata": {},
   "source": [
    "           PYTHON ASSIGNMENT-9\n",
    "What is exception handling in python?\n",
    "-Exception handling in Python is a mechanism to manage errors and exceptions that may occur during the execution of a program. \n",
    "-It allows you to write code that can gracefully respond to runtime errors, rather than having the program crash unexpectedly."
   ]
  },
  {
   "cell_type": "markdown",
   "id": "bf64c66e-f611-4c41-961d-082d05c82297",
   "metadata": {},
   "source": [
    "How do you catch an exception in python?\n",
    "Ex try:\n",
    "     Code that might raise an exception\n",
    "    value = int(input(\"Enter a number: \"))\n",
    "     result = 10 / value\n",
    "   except ValueError:\n",
    "     print(\"That's not a valid number!\")\n",
    "   except ZeroDivisionError:\n",
    "     print(\"You can't divide by zero!\")\n"
   ]
  },
  {
   "cell_type": "markdown",
   "id": "cf33a4c3-5d3c-4f19-a8bd-49da04bc306b",
   "metadata": {},
   "source": [
    "What will the following code output?\n"
   ]
  },
  {
   "cell_type": "markdown",
   "id": "59340294-8f62-4561-b031-ca94aee2775c",
   "metadata": {},
   "source": [
    "What is the purpose of 'finally' block?\n",
    "Ex  try:\n",
    "    file = open('example.txt', 'r')\n",
    "     Code that may raise an exception\n",
    "    content = file.read()\n",
    "except FileNotFoundError:\n",
    "    print(\"File not found!\")\n",
    "finally:\n",
    "    file.close()  # This will always execute\n",
    "    print(\"File closed.\")"
   ]
  },
  {
   "cell_type": "markdown",
   "id": "a55c95d0-63d8-4314-9ca8-868e1f17a00a",
   "metadata": {},
   "source": [
    "Can you have multiple 'except' blocks for a single 'try' statement?\n",
    "Ex try:\n",
    "    value = int(input(\"Enter a number: \"))\n",
    "    result = 10 / value\n",
    "   except ValueError:\n",
    "    print(\"That's not a valid number!\")\n",
    "   except ZeroDivisionError:\n",
    "    print(\"You can't divide by zero!\")\n",
    "   except Exception as e:\n",
    "    print(f\"An unexpected error occurred: {e}\")"
   ]
  },
  {
   "cell_type": "markdown",
   "id": "14df1bf6-0fdd-4716-80a7-1de4787686dc",
   "metadata": {},
   "source": [
    "How do you catch multiple exceptions in a single except block?\n",
    " Ex try:\n",
    "        value = int(input(\"Enter a number: \"))\n",
    "        result = 10 / value\n",
    "    except (ValueError, ZeroDivisionError) as e:\n",
    "       print(f\"An error occurred: {e}\")"
   ]
  },
  {
   "cell_type": "markdown",
   "id": "0664f835-8979-448b-b607-b731050813f8",
   "metadata": {},
   "source": [
    "What does the 'raise' statement do?\n",
    "-Raise a specific exception: To indicate an error condition in your code.\n",
    "-Re-raise a caught exception: To propagate an existing exception to higher levels in the program."
   ]
  },
  {
   "cell_type": "markdown",
   "id": "a868c3a7-ac7f-4454-9f25-9e1ad8409f40",
   "metadata": {},
   "source": [
    "What will the following code output?"
   ]
  },
  {
   "cell_type": "markdown",
   "id": "8235e27e-095f-47e1-a2aa-f36b6f07517c",
   "metadata": {},
   "source": [
    "What is a custom exception in python?\n",
    "-A custom exception in Python is a user-defined exception that you create by subclassing the built-in Exception class. \n",
    "-This allows you to define specific error conditions that are relevant to your application, making your code more readable and maintainable."
   ]
  },
  {
   "cell_type": "markdown",
   "id": "01396e0e-f3d6-4340-90f5-c4e5ca2ca60a",
   "metadata": {},
   "source": [
    "How do you define custom exception?\n",
    "-Ex    class MyCustomError(Exception):\n",
    "          def __init__(self, message):\n",
    "          super().__init__(message)\n",
    "\n",
    "       raise MyCustomError(\"An error occurred!\")"
   ]
  },
  {
   "cell_type": "markdown",
   "id": "ae2a37be-38aa-4c9d-afe2-328771a075a5",
   "metadata": {},
   "source": [
    "How can you use 'else' with 'try' and except? \n",
    "Ex try:\n",
    "      value = int(input(\"Enter a number: \"))\n",
    "      result = 10 / value\n",
    "   except ValueError:\n",
    "      print(\"That's not a valid number!\")\n",
    "   except ZeroDivisionError:\n",
    "      print(\"You can't divide by zero!\")\n",
    "   else:\n",
    "      print(f\"The result is {result}\")"
   ]
  },
  {
   "cell_type": "markdown",
   "id": "aac7d057-166b-4d41-8a0d-5e08e217ef2b",
   "metadata": {},
   "source": [
    "What is the difference between 'except exception' and a 'specific exception like except value Error?\n",
    "  EXCEPT EXCEPTION                                                               EXCEPT VALUE ERROR\n",
    "-Catches all exceptions that are subclasses of Exception                  -Catches only ValueError exceptions\n",
    "-Less specific; may handle unintended exceptions                          -More specific; only handles ValueError\n",
    "-Can make debugging harder by masking other errors                        -Easier to debug as it focuses on a specific error\n",
    "-Useful for generic error handling when the type of error is unknown      -Useful when you want to handle a specific error condition\n",
    "-try: ... except Exception as e: ...                                      -try: ... except ValueError: ...\n"
   ]
  }
 ],
 "metadata": {
  "kernelspec": {
   "display_name": "Python 3 (ipykernel)",
   "language": "python",
   "name": "python3"
  },
  "language_info": {
   "codemirror_mode": {
    "name": "ipython",
    "version": 3
   },
   "file_extension": ".py",
   "mimetype": "text/x-python",
   "name": "python",
   "nbconvert_exporter": "python",
   "pygments_lexer": "ipython3",
   "version": "3.12.4"
  }
 },
 "nbformat": 4,
 "nbformat_minor": 5
}
