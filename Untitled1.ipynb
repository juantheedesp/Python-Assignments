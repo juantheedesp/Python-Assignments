{
 "cells": [
  {
   "cell_type": "markdown",
   "id": "8711885d-d731-4551-9bda-be0d09f66370",
   "metadata": {},
   "source": [
    "      PYTHON ASSIGNMENT -1\n",
    "What is python?\n",
    "-High level interpreted language.\n",
    "-Emphasizes code readability."
   ]
  },
  {
   "cell_type": "markdown",
   "id": "292cd693-331c-45a7-9a4b-d10549616441",
   "metadata": {},
   "source": [
    "How does the print() function do in Python?\n",
    "-It is resembled as parenthesis.\n",
    "-Helps to execute a particular variable."
   ]
  },
  {
   "cell_type": "markdown",
   "id": "f578badb-30d8-470d-a85f-9e762a878aee",
   "metadata": {},
   "source": [
    "\n",
    "what is the purpose of comments in Python programming language?\n",
    "-Used to explain the code and make it readable. "
   ]
  },
  {
   "cell_type": "markdown",
   "id": "c89daae1-85e9-4753-8ee0-93402db9174e",
   "metadata": {},
   "source": [
    "Provide an example of a syntax error and semantic error in python and explain why it is an error?\n",
    "-syntax error is where the code doesnt follow the python language.\n",
    "  ex:print=(Cambridge infotech) # Missing opening and closing \"\"\n",
    "- Semantic errors is synthitically write but do note make sense in the python language.\n",
    "  ex:\"Carrington\" is 30 + 15 # str and integer together "
   ]
  },
  {
   "cell_type": "markdown",
   "id": "b6daaae6-6057-4d7f-a1d6-e00fc40edd53",
   "metadata": {
    "scrolled": true
   },
   "source": [
    "What does case sensitivity mean in python?\n",
    "-where uppercase and lowercase are mentioned in different ways.\n"
   ]
  },
  {
   "cell_type": "markdown",
   "id": "a57db773-b273-42d5-a444-890f7b101e2d",
   "metadata": {},
   "source": [
    "Provide an example to illustrate how case sensitivity affects variable names in Python?\n",
    "-Ex: Designation = \"Sales\"\n",
    "     DESIGNATION = \"Marketing\"\n",
    "     designation = \"Finance\"\n",
    "\n",
    "     Print(Designation)  # Sales\n",
    "     Print(DESIGNATION)  # Marketing\n",
    "     Print(designation)  # Finance \n",
    "     "
   ]
  },
  {
   "cell_type": "markdown",
   "id": "c084b10a-580d-4766-a5f8-6c088584ea13",
   "metadata": {},
   "source": [
    "What is recommended naming convention for variables in python?\n",
    "- Using lowercase letters with underscores to separate words (e.g., my_variable) "
   ]
  },
  {
   "cell_type": "markdown",
   "id": "90d41fcb-a8b9-4a8c-9b89-250eceb0c63e",
   "metadata": {},
   "source": [
    "What is the purpose of indentation in python?\n",
    "-it informs python that particular staments belongs to the particular block."
   ]
  },
  {
   "cell_type": "markdown",
   "id": "5e713620-4f3f-4cd9-88eb-77cddd2de4ed",
   "metadata": {},
   "source": [
    "What is the current stable version of python as of september 2024?\n",
    "-Python 3.13"
   ]
  },
  {
   "cell_type": "code",
   "execution_count": null,
   "id": "aef8650b-89b9-4b95-88d2-88bac5a544c5",
   "metadata": {},
   "outputs": [],
   "source": [
    "What are the basics data types in Python?Provide examples for each?\n",
    "-Types Integer\n",
    "       String\n",
    "       Float\n",
    "       Boolean\n",
    "\n",
    "-Ex:  10,+20,-50\n",
    "      \"Fallon Carrington\",\"Computer Applications\"\n",
    "       25.00,0.005,\n",
    "       True,False\n",
    "      \n",
    "      \n"
   ]
  }
 ],
 "metadata": {
  "kernelspec": {
   "display_name": "Python 3 (ipykernel)",
   "language": "python",
   "name": "python3"
  },
  "language_info": {
   "codemirror_mode": {
    "name": "ipython",
    "version": 3
   },
   "file_extension": ".py",
   "mimetype": "text/x-python",
   "name": "python",
   "nbconvert_exporter": "python",
   "pygments_lexer": "ipython3",
   "version": "3.12.4"
  }
 },
 "nbformat": 4,
 "nbformat_minor": 5
}
