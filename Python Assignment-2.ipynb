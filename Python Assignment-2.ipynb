{
 "cells": [
  {
   "cell_type": "markdown",
   "id": "de82068c-93e2-4002-8d74-3d0b2fcb93a4",
   "metadata": {},
   "source": [
    "              PYTHON ASSIGNMENT - 2\n",
    "Q1. What is the difference between = and == in Python?\n",
    "-= refers to assignment operator,it assigns value on right to left variable\n",
    " ==refers to comparision operator,evaluates if two operands are equal\n",
    "\n",
    "Q2. How does the not operator work with boolean values?\n",
    "- a = True\n",
    "  b = not a    b will be False\n",
    "\n",
    "  c = False\n",
    "  d = not c    d will be True\n",
    "  \n",
    "Q3. Can you give an example of using the &amp; bitwise operator?\n",
    "- Ex a=50\n",
    "     b=100\n",
    "     c=bin(a & b)\n",
    "     print(c)\n",
    "     ob10000\n",
    "  \n",
    "Q4. How do you use the or logical operator in a condition?\n",
    "- EX (10>30) OR (30<40)\n",
    "         True\n",
    "  \n",
    "Q5. How do you use the is operator in Python?\n",
    "- Ex a=[1,2,3]\n",
    "     b=[1,2,3]\n",
    "     c=a\n",
    "     print(a is c)\n",
    "       True\n",
    "  \n",
    "Q6. What is the difference between is and == when comparing two strings in Python?\n",
    "- Checks if two references point to the same object in memory.\n",
    "- It does not compare the content of the strings, only their identities.\n",
    "  Ex a=[1,2,3]\n",
    "     b=[1,2,3]\n",
    "     print (a is c)\n",
    "          True\n",
    "\n",
    "- Compares the values of two objects to see if they are equal.\n",
    "- For strings, it checks if the content of the strings is the same.\n",
    "- Ex 10==20 False\n",
    "     10==10 True\n",
    "\n",
    "Q7. Can you give an example of how the not in membership operator works?\n",
    "-Ex colours =[\"red,\" \"blue,\" \"green,\" \"yellow,\" \"orange\"]\n",
    "    print = [\"orange\" not in colours]\n",
    "                    False\n",
    "                    \n",
    "Q8. How do you use the &gt;= (greater than or equal to) comparison operator?\n",
    "-Ex   25>=50\n",
    "      False\n",
    "      \n",
    "Q9. Can you show how to use the in membership operator?\n",
    "-Ex   colours=[\"red,\" \"blue,\" \"green,\" \"yellow,\" \"orange\"]\n",
    "      print = [\"orange\" in colours]\n",
    "                     True\n"
   ]
  }
 ],
 "metadata": {
  "kernelspec": {
   "display_name": "Python 3 (ipykernel)",
   "language": "python",
   "name": "python3"
  },
  "language_info": {
   "codemirror_mode": {
    "name": "ipython",
    "version": 3
   },
   "file_extension": ".py",
   "mimetype": "text/x-python",
   "name": "python",
   "nbconvert_exporter": "python",
   "pygments_lexer": "ipython3",
   "version": "3.12.4"
  }
 },
 "nbformat": 4,
 "nbformat_minor": 5
}
