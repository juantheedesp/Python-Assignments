{
 "cells": [
  {
   "cell_type": "markdown",
   "id": "a960f234-f0b5-41be-97d6-ae4ef5476628",
   "metadata": {},
   "source": [
    " PYTHON ASSIGNMENT - 4 And 5\n",
    "What is a while loop in python?\n",
    "- Repeatedly executes then code\n",
    "- If the specified condition is true\n"
   ]
  },
  {
   "cell_type": "markdown",
   "id": "d74e9b95-dca9-4c15-9619-a62685faf9e7",
   "metadata": {},
   "source": [
    "How do you write a simple while loop in python?\n",
    "- Ex Count = 2\n",
    "     while count < 5:\n",
    "     print(count)\n",
    "     count = count +2"
   ]
  },
  {
   "cell_type": "markdown",
   "id": "e0a267c9-0ab1-4b6d-95d8-fcb5cb5724c6",
   "metadata": {},
   "source": [
    "What happens if the condition in while loop is never false?\n",
    "Ex-count = 0\n",
    "   while count < 5:\n",
    "   print(count)\n",
    "   count += 1 \n",
    "   \n",
    "if the condition in a while loop is never false, the loop will run forever"
   ]
  },
  {
   "cell_type": "markdown",
   "id": "e6b54076-c1f9-4140-860f-979c0d61a77a",
   "metadata": {},
   "source": [
    "How can you exit while loop prematurely?\n",
    "- You can exit a while loop prematurely using the break statement.\n",
    "- Ex count = 0\n",
    "     while True:  # This creates an infinite loop\n",
    "     print(count)\n",
    "     count += 1\n",
    "     if count >= 5:\n",
    "        break  # Exit the loop when count reaches 5\n"
   ]
  },
  {
   "cell_type": "markdown",
   "id": "bb6f4880-f2f3-4a29-85df-54a30b102d5b",
   "metadata": {},
   "source": [
    "Can you give an example for while loop that counts from 1-5?\n",
    "-Ex  count =0\n",
    "     while count <5:\n",
    "     print(count)\n",
    "     count +=1\n",
    "     1\n",
    "     2\n",
    "     3\n",
    "     4\n",
    "     5\n",
    "    "
   ]
  },
  {
   "cell_type": "markdown",
   "id": "38599d7f-b74a-425d-868d-12a68fe79956",
   "metadata": {},
   "source": [
    "What is the role of the increment statement in a while loop?\n",
    "- It increases the operand by one.\n",
    " X= 10\n",
    " X= 10 + 1\n",
    " print(x)\n",
    "    11\n"
   ]
  },
  {
   "cell_type": "markdown",
   "id": "ce6b1371-4e18-4fa6-b6a0-7e3284a496a9",
   "metadata": {},
   "source": [
    "Can a while loop be nested in another while loop?\n",
    "- Ex outer_count = 0\n",
    "    while outer_count < 3:  # Outer loop\n",
    "        print(f\"Outer loop iteration: {outer_count}\")\n",
    "    \n",
    "    inner_count = 0\n",
    "    while inner_count < 2:  # Inner loop\n",
    "        print(f\"  Inner loop iteration: {inner_count}\")\n",
    "        inner_count += 1\n",
    "    \n",
    "    outer_count += 1"
   ]
  },
  {
   "cell_type": "markdown",
   "id": "f57f217a-18b4-4b8b-97c9-5161f53d2145",
   "metadata": {},
   "source": [
    "What is an infinite loop, and  How can you create one\n",
    "- An infinite loop is a loop that continues to execute indefinitely because its terminating condition is never met.\n",
    "\n",
    "Ex while True:\n",
    "    print(\"This will run forever!\")\n",
    "Using a while loop with a condition that never becomes false:\n",
    "\n",
    "count = 0\n",
    "while count < 5:\n",
    "    print(\"Still looping...\")\n",
    "    # count is never incremented\n",
    "    \n",
    "Using a for loop with a constant iterable:\n",
    "\n",
    "for _ in iter(int, 1):  # iter(int, 1) creates an infinite iterable\n",
    "    print(\"This will also run forever!\")"
   ]
  },
  {
   "cell_type": "markdown",
   "id": "165bd993-bbaf-4a85-ba8a-ead56008c3d2",
   "metadata": {},
   "source": [
    "How can you prevent an infinite loop?\n",
    "-Ex    count = 0\n",
    "       while count < 5:\n",
    "            print(count)\n",
    "            count += 1  # Incrementing count to ensure the condition changes\n",
    "\n",
    "Use a Counter: For loops that need to run a specific number of times, use a counter variable.\n",
    "for i in range(5):\n",
    "    print(i)  # This will run exactly 5 times\n",
    "    \n",
    "Set a Maximum Limit: If your loop could run indefinitely based on user input or other dynamic conditions, consider adding a maximum limit.\n",
    "     count = 0\n",
    "     max_iterations = 10\n",
    "     while count < max_iterations:\n",
    "           print(count)\n",
    "           count += 1\n",
    "\n",
    "Incorporate Break Conditions: Use a break statement to exit the loop based on a specific condition.\n",
    "      count = 0\n",
    "      while True:\n",
    "           print(count)\n",
    "           count += 1\n",
    "           if count >= 5:\n",
    "           break  # Exit the loop when count reaches 5"
   ]
  },
  {
   "cell_type": "markdown",
   "id": "677da6c0-e7e1-47bd-8db3-e6c59a28127e",
   "metadata": {},
   "source": [
    "What is the difference between a while loop and a for loop in python?\n",
    "      while loop                                           for loop\n",
    "-while condition.                                  -for variable in iterable.\n",
    "-Controlled by a condition.                        -Controlled by an iterable.\n",
    "-Unknown number of iterations.                     -Known number of iterations.\n",
    "-Checked before each iteration.                    -Iterates through all elements.\n",
    "-Must manage manually.                             -Automatically handled by Python.\n",
    "-Waiting for user input, indefinite.               -Iterating over lists, ranges, etc.\n",
    "-Higher risk if condition is not managed.          -Lower risk if iterable is well-defined.\n",
    "-Can be less efficient for known ranges.\t          -Generally more efficient for fixed iterations.\n",
    "```\t```\n"
   ]
  },
  {
   "cell_type": "markdown",
   "id": "628226ee-a1ea-4464-a249-feb66c0f4408",
   "metadata": {},
   "source": []
  }
 ],
 "metadata": {
  "kernelspec": {
   "display_name": "Python 3 (ipykernel)",
   "language": "python",
   "name": "python3"
  },
  "language_info": {
   "codemirror_mode": {
    "name": "ipython",
    "version": 3
   },
   "file_extension": ".py",
   "mimetype": "text/x-python",
   "name": "python",
   "nbconvert_exporter": "python",
   "pygments_lexer": "ipython3",
   "version": "3.12.4"
  }
 },
 "nbformat": 4,
 "nbformat_minor": 5
}
